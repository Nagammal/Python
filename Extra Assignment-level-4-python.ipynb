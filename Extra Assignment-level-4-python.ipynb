{
 "cells": [
  {
   "cell_type": "code",
   "execution_count": 24,
   "id": "d0517dc0-438d-4428-8a13-70980a1f2621",
   "metadata": {},
   "outputs": [
    {
     "name": "stdout",
     "output_type": "stream",
     "text": [
      "Sub-fields in AI are: \n",
      "Machine Learning\n",
      "Neural Networks\n",
      "Vision\n",
      "Robotics\n",
      "Speech Processing\n",
      "Natural Language Processing\n"
     ]
    }
   ],
   "source": [
    "def Subfields():\n",
    "    answer=print(\"Sub-fields in AI are: \\nMachine Learning\\nNeural Networks\\nVision\\nRobotics\\nSpeech Processing\\nNatural Language Processing\")\n",
    "    return answer\n",
    "Subfields()    "
   ]
  },
  {
   "cell_type": "code",
   "execution_count": 25,
   "id": "c9125935-bce5-444b-b47b-3a4aa9b20cc5",
   "metadata": {},
   "outputs": [
    {
     "name": "stdin",
     "output_type": "stream",
     "text": [
      "Enter a number : 52452\n"
     ]
    },
    {
     "name": "stdout",
     "output_type": "stream",
     "text": [
      "Enter a number: 52452\n",
      "52452 is Even Number\n"
     ]
    }
   ],
   "source": [
    "#Create a function to check whether the given number is odd or even\n",
    "num=int(input(\"Enter a number :\"))\n",
    "def OddEven():\n",
    "    print(\"Enter a number:\",num)\n",
    "    if(num%2==1):\n",
    "        answer=print(num,\"is Odd Number\")\n",
    "    else:\n",
    "        answer=print(num,\"is Even Number\")\n",
    "    return answer\n",
    "OddEven()"
   ]
  },
  {
   "cell_type": "code",
   "execution_count": 26,
   "id": "a556c4db-3c70-461d-8091-02fdb6da14eb",
   "metadata": {},
   "outputs": [
    {
     "name": "stdin",
     "output_type": "stream",
     "text": [
      "Enter your Gender Male\n",
      "Enter your age 20\n"
     ]
    },
    {
     "name": "stdout",
     "output_type": "stream",
     "text": [
      "Your Gender: Male\n",
      "Your Age: 20\n",
      "NOT ELIGIBLE\n"
     ]
    }
   ],
   "source": [
    "# Create a function that tells elegibility of marriage for male and female according to their age limit like 21 for male and 18 for female\n",
    "Gender=input(\"Enter your Gender\")\n",
    "Age=int(input(\"Enter your age\"))\n",
    "def Eligible():\n",
    "    print(\"Your Gender:\",Gender)\n",
    "    print(\"Your Age:\",Age)\n",
    "    if (Gender==\"Male\" and Age>=21):\n",
    "        message=print(\"ELIGIBLE\")\n",
    "    elif(Gender==\"Female\" and Age>=18):\n",
    "        message=print(\"ELIGIBLE\")\n",
    "    else:\n",
    "        message=print(\"NOT ELIGIBLE\")\n",
    "    return message\n",
    "Eligible() "
   ]
  },
  {
   "cell_type": "code",
   "execution_count": 27,
   "id": "16f8f91e-f10f-4a16-83bd-935d2339302f",
   "metadata": {},
   "outputs": [],
   "source": [
    "#calculate the percentage of your 10th mark\n"
   ]
  },
  {
   "cell_type": "code",
   "execution_count": 28,
   "id": "e57b3677-7d82-4281-b6cf-5d1926027947",
   "metadata": {},
   "outputs": [
    {
     "name": "stdin",
     "output_type": "stream",
     "text": [
      " 98\n",
      " 87\n",
      " 95\n",
      " 95\n",
      " 93\n"
     ]
    },
    {
     "name": "stdout",
     "output_type": "stream",
     "text": [
      "Subject1= 98\n",
      "Subject2= 87\n",
      "Subject3= 95\n",
      "Subject4= 95\n",
      "Subject5= 93\n",
      "Total= 468\n",
      "percentage= 93.60000000000001\n"
     ]
    }
   ],
   "source": [
    "Subject1=int(input())\n",
    "Subject2=int(input())\n",
    "Subject3=int(input())\n",
    "Subject4=int(input())\n",
    "Subject5=int(input())\n",
    "\n",
    "def percentage():\n",
    "    print(\"Subject1=\",Subject1)\n",
    "    print(\"Subject2=\",Subject2)\n",
    "    print(\"Subject3=\",Subject3)\n",
    "    print(\"Subject4=\",Subject4)\n",
    "    print(\"Subject5=\",Subject5)\n",
    "    Total=Subject1+Subject2+Subject3+Subject4+Subject5\n",
    "    percentage=(Total/500)*100\n",
    "    print(\"Total=\",Total)\n",
    "    print(\"percentage=\",percentage)\n",
    "    #return (Total,percentage)\n",
    "percentage()"
   ]
  },
  {
   "cell_type": "code",
   "execution_count": 29,
   "id": "a5b183e5-2850-4c33-a7b6-a45da6fb2e3d",
   "metadata": {},
   "outputs": [],
   "source": [
    "#print area and perimeter of triangle using class and functions"
   ]
  },
  {
   "cell_type": "code",
   "execution_count": 30,
   "id": "10cc3e19-15a9-4bd9-aecc-5b4ea618d06e",
   "metadata": {},
   "outputs": [
    {
     "name": "stdin",
     "output_type": "stream",
     "text": [
      " 32\n",
      " 34\n"
     ]
    },
    {
     "name": "stdout",
     "output_type": "stream",
     "text": [
      "Height= 32\n",
      "Breadth= 34\n",
      "Area formula: (Height*Breadth)/2 \n",
      "Area of Triangle: 544.0\n"
     ]
    },
    {
     "name": "stdin",
     "output_type": "stream",
     "text": [
      " 2\n",
      " 4\n",
      " 4\n"
     ]
    },
    {
     "name": "stdout",
     "output_type": "stream",
     "text": [
      "Height1= 2\n",
      "Height2= 4\n",
      "Breadth= 4\n",
      "Perimeter formula: Height1+Height2+Breadth\n",
      "Perimeter of Triangle: 10\n"
     ]
    }
   ],
   "source": [
    "def triangle():\n",
    "    Height=int(input())\n",
    "    Breadth=int(input())\n",
    "    print(\"Height=\",Height)\n",
    "    print(\"Breadth=\",Breadth)\n",
    "    print(\"Area formula: (Height*Breadth)/2 \")\n",
    "    Area=(Height*Breadth)/2\n",
    "    print(\"Area of Triangle:\",Area)\n",
    "\n",
    "    Height1=int(input())\n",
    "    Height2=int(input())\n",
    "    Breadth=int(input())\n",
    "    print(\"Height1=\",Height1)\n",
    "    print(\"Height2=\",Height2)\n",
    "    print(\"Breadth=\",Breadth)\n",
    "    print(\"Perimeter formula: Height1+Height2+Breadth\")\n",
    "    Perimeter= Height1+Height2+Breadth\n",
    "    print(\"Perimeter of Triangle:\", Perimeter)\n",
    "\n",
    "triangle()"
   ]
  },
  {
   "cell_type": "markdown",
   "id": "4530f901-1e9e-429c-b2a6-b26909a05a9f",
   "metadata": {},
   "source": [
    "##### "
   ]
  }
 ],
 "metadata": {
  "kernelspec": {
   "display_name": "Python 3 (ipykernel)",
   "language": "python",
   "name": "python3"
  },
  "language_info": {
   "codemirror_mode": {
    "name": "ipython",
    "version": 3
   },
   "file_extension": ".py",
   "mimetype": "text/x-python",
   "name": "python",
   "nbconvert_exporter": "python",
   "pygments_lexer": "ipython3",
   "version": "3.12.7"
  }
 },
 "nbformat": 4,
 "nbformat_minor": 5
}
